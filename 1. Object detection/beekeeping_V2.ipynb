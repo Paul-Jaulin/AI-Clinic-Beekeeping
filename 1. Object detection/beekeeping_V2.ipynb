{
 "cells": [
  {
   "cell_type": "code",
   "execution_count": null,
   "id": "add2d321",
   "metadata": {},
   "outputs": [],
   "source": [
    "from roboflow import Roboflow\n",
    "from PIL import Image, ImageDraw, UnidentifiedImageError\n",
    "import PIL\n",
    "import os"
   ]
  },
  {
   "cell_type": "code",
   "execution_count": 4,
   "id": "74fd7fa0",
   "metadata": {},
   "outputs": [
    {
     "name": "stdout",
     "output_type": "stream",
     "text": [
      "loading Roboflow workspace...\n",
      "loading Roboflow project...\n"
     ]
    },
    {
     "ename": "HTTPError",
     "evalue": "403 Client Error: Forbidden for url: https://detect.roboflow.com/beekeeping_step1-5n131/9?api_key=gJvPdZaOYF8eb2ctWoWS&name=YOUR_IMAGE.jpg&overlap=30&confidence=40&stroke=1&labels=false&format=json",
     "output_type": "error",
     "traceback": [
      "\u001b[1;31m---------------------------------------------------------------------------\u001b[0m",
      "\u001b[1;31mHTTPError\u001b[0m                                 Traceback (most recent call last)",
      "Cell \u001b[1;32mIn[4], line 36\u001b[0m\n\u001b[0;32m     33\u001b[0m image_path \u001b[38;5;241m=\u001b[39m \u001b[38;5;124mf\u001b[39m\u001b[38;5;124m\"\u001b[39m\u001b[38;5;124mC:/Users/loicb/Pictures/Bekeeping/img/\u001b[39m\u001b[38;5;132;01m{\u001b[39;00mimage_file_name\u001b[38;5;132;01m}\u001b[39;00m\u001b[38;5;124m\"\u001b[39m  \u001b[38;5;66;03m# Change this path to the directory where your images are stored\u001b[39;00m\n\u001b[0;32m     35\u001b[0m \u001b[38;5;66;03m# Perform inference on the local image\u001b[39;00m\n\u001b[1;32m---> 36\u001b[0m result \u001b[38;5;241m=\u001b[39m model\u001b[38;5;241m.\u001b[39mpredict(image_path, confidence\u001b[38;5;241m=\u001b[39mconfidence_threshold, overlap\u001b[38;5;241m=\u001b[39moverlap_threshold)\u001b[38;5;241m.\u001b[39mjson()\n\u001b[0;32m     38\u001b[0m \u001b[38;5;66;03m# Open the original image\u001b[39;00m\n\u001b[0;32m     39\u001b[0m original_image \u001b[38;5;241m=\u001b[39m Image\u001b[38;5;241m.\u001b[39mopen(image_path)\n",
      "File \u001b[1;32m~\\anaconda3\\Lib\\site-packages\\roboflow\\models\\object_detection.py:241\u001b[0m, in \u001b[0;36mObjectDetectionModel.predict\u001b[1;34m(self, image_path, hosted, format, classes, overlap, confidence, stroke, labels)\u001b[0m\n\u001b[0;32m    238\u001b[0m     \u001b[38;5;66;03m# POST to the API\u001b[39;00m\n\u001b[0;32m    239\u001b[0m     resp \u001b[38;5;241m=\u001b[39m requests\u001b[38;5;241m.\u001b[39mpost(\u001b[38;5;28mself\u001b[39m\u001b[38;5;241m.\u001b[39mapi_url)\n\u001b[1;32m--> 241\u001b[0m resp\u001b[38;5;241m.\u001b[39mraise_for_status()\n\u001b[0;32m    242\u001b[0m \u001b[38;5;66;03m# Return a prediction group if JSON data\u001b[39;00m\n\u001b[0;32m    243\u001b[0m \u001b[38;5;28;01mif\u001b[39;00m \u001b[38;5;28mself\u001b[39m\u001b[38;5;241m.\u001b[39mformat \u001b[38;5;241m==\u001b[39m \u001b[38;5;124m\"\u001b[39m\u001b[38;5;124mjson\u001b[39m\u001b[38;5;124m\"\u001b[39m:\n",
      "File \u001b[1;32m~\\anaconda3\\Lib\\site-packages\\requests\\models.py:1021\u001b[0m, in \u001b[0;36mResponse.raise_for_status\u001b[1;34m(self)\u001b[0m\n\u001b[0;32m   1016\u001b[0m     http_error_msg \u001b[38;5;241m=\u001b[39m (\n\u001b[0;32m   1017\u001b[0m         \u001b[38;5;124mf\u001b[39m\u001b[38;5;124m\"\u001b[39m\u001b[38;5;132;01m{\u001b[39;00m\u001b[38;5;28mself\u001b[39m\u001b[38;5;241m.\u001b[39mstatus_code\u001b[38;5;132;01m}\u001b[39;00m\u001b[38;5;124m Server Error: \u001b[39m\u001b[38;5;132;01m{\u001b[39;00mreason\u001b[38;5;132;01m}\u001b[39;00m\u001b[38;5;124m for url: \u001b[39m\u001b[38;5;132;01m{\u001b[39;00m\u001b[38;5;28mself\u001b[39m\u001b[38;5;241m.\u001b[39murl\u001b[38;5;132;01m}\u001b[39;00m\u001b[38;5;124m\"\u001b[39m\n\u001b[0;32m   1018\u001b[0m     )\n\u001b[0;32m   1020\u001b[0m \u001b[38;5;28;01mif\u001b[39;00m http_error_msg:\n\u001b[1;32m-> 1021\u001b[0m     \u001b[38;5;28;01mraise\u001b[39;00m HTTPError(http_error_msg, response\u001b[38;5;241m=\u001b[39m\u001b[38;5;28mself\u001b[39m)\n",
      "\u001b[1;31mHTTPError\u001b[0m: 403 Client Error: Forbidden for url: https://detect.roboflow.com/beekeeping_step1-5n131/9?api_key=gJvPdZaOYF8eb2ctWoWS&name=YOUR_IMAGE.jpg&overlap=30&confidence=40&stroke=1&labels=false&format=json"
     ]
    }
   ],
   "source": [
    "# Initialize Roboflow\n",
    "rf = Roboflow(api_key=\"gJvPdZaOYF8eb2ctWoWS\")\n",
    "\n",
    "# Specify project and model details\n",
    "project_name = \"beekeeping_step1-5n131\"\n",
    "model_version = 10\n",
    "confidence_threshold = 40\n",
    "overlap_threshold = 30\n",
    "\n",
    "# Get the project and model\n",
    "project = rf.workspace().project(project_name)\n",
    "model = project.version(model_version).model\n",
    "\n",
    "# Directory where your images are stored\n",
    "image_directory = \"C:/Users/loicb/Pictures/Bekeeping/img/\"  # Change this path to the directory where your images are stored\n",
    "\n",
    "# List all image file names in the directory\n",
    "image_file_names = [f for f in os.listdir(image_directory) if f.endswith(('.jpg', '.jpeg', '.png', '.gif'))]\n",
    "\n",
    "# Directory for saving inference results\n",
    "output_directory = \"inference\"\n",
    "os.makedirs(output_directory, exist_ok=True)\n",
    "\n",
    "# Perform inference in a loop\n",
    "for image_file_name in image_file_names:  \n",
    "    try:\n",
    "        # Construct the full path to the image\n",
    "        image_path = f\"C:/Users/loicb/Pictures/Bekeeping/img/{image_file_name}\"  # Change this path to the directory where your images are stored\n",
    "\n",
    "        # Perform inference on the local image\n",
    "        result = model.predict(image_path, confidence=confidence_threshold, overlap=overlap_threshold).json()\n",
    "\n",
    "        # Open the original image\n",
    "        original_image = Image.open(image_path)\n",
    "\n",
    "        # Check if \"objects\" key is present in the result\n",
    "        if \"objects\" in result:\n",
    "            predictions = result[\"objects\"]\n",
    "        else:\n",
    "            predictions = result[\"predictions\"]\n",
    "\n",
    "        for i,prediction in enumerate(predictions):\n",
    "            # Extract relevant information\n",
    "            x = int(prediction['y'])\n",
    "            y = int(prediction['x'])\n",
    "            width = int(prediction['width'])/2\n",
    "            height = int(prediction['height'])/2\n",
    "            image_path = prediction['image_path']\n",
    "\n",
    "            # Open the original image\n",
    "            original_image = Image.open(image_path)\n",
    "\n",
    "            # Crop the region of interest\n",
    "            #cropped_image = original_image.crop((left, top, right, bottom))\n",
    "            cropped_image = original_image.crop((y - width, x - height, y + width, x + height))\n",
    "\n",
    "            # Save the cropped image to a new file\n",
    "            crop_file_name = image_file_name.split('.')[0]\n",
    "            output_file_name = f\"{output_directory}/{crop_file_name}_{i}.jpg\"\n",
    "            cropped_image.save(output_file_name)\n",
    "            #print(f\"Cropped image saved: {output_file_name}\")\n",
    "    except UnidentifiedImageError:\n",
    "        print(f\"Skipping {image_file_name} due to UnidentifiedImageError.\")\n",
    "\n",
    "print(f\"Saved detection frame at: {os.path.join(output_directory, f'detection_frame_{image_file_name}')}\")  \n",
    "\n",
    "# End of the loop\n"
   ]
  }
 ],
 "metadata": {
  "kernelspec": {
   "display_name": "Python 3 (ipykernel)",
   "language": "python",
   "name": "python3"
  },
  "language_info": {
   "codemirror_mode": {
    "name": "ipython",
    "version": 3
   },
   "file_extension": ".py",
   "mimetype": "text/x-python",
   "name": "python",
   "nbconvert_exporter": "python",
   "pygments_lexer": "ipython3",
   "version": "3.8.10"
  }
 },
 "nbformat": 4,
 "nbformat_minor": 5
}
